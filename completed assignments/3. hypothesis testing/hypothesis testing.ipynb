{
  "cells": [
    {
      "cell_type": "markdown",
      "id": "3693a1e3",
      "metadata": {
        "id": "3693a1e3"
      },
      "source": [
        "# Assignment - 03 (Hypothesis Testing)"
      ]
    },
    {
      "cell_type": "code",
      "execution_count": null,
      "id": "087a4d6b",
      "metadata": {
        "id": "087a4d6b"
      },
      "outputs": [],
      "source": [
        "import pandas as pd\n",
        "import numpy as np\n",
        "from scipy import stats\n",
        "from scipy.stats import norm\n",
        "from scipy.stats import chi2_contingency"
      ]
    },
    {
      "cell_type": "markdown",
      "id": "4f581296",
      "metadata": {
        "id": "4f581296"
      },
      "source": [
        "###### Q1. A F&B manager wants to determine whether there is any significant difference in the diameter of the cutlet between two units. A randomly selected sample of cutlets was collected from both units and measured? Analyze the data and draw inferences at 5% significance level. Please state the assumptions and tests that you carried out to check validity of the assumptions."
      ]
    },
    {
      "cell_type": "code",
      "execution_count": null,
      "id": "b67de64b",
      "metadata": {
        "colab": {
          "base_uri": "https://localhost:8080/",
          "height": 206
        },
        "id": "b67de64b",
        "outputId": "56777e1a-d8ae-4aa4-fa6d-3feb095a9371"
      },
      "outputs": [
        {
          "output_type": "execute_result",
          "data": {
            "text/plain": [
              "   Unit A  Unit B\n",
              "0  6.8090  6.7703\n",
              "1  6.4376  7.5093\n",
              "2  6.9157  6.7300\n",
              "3  7.3012  6.7878\n",
              "4  7.4488  7.1522"
            ],
            "text/html": [
              "\n",
              "  <div id=\"df-5f2aabff-6ba4-4c60-865b-303a6ae7cc2c\">\n",
              "    <div class=\"colab-df-container\">\n",
              "      <div>\n",
              "<style scoped>\n",
              "    .dataframe tbody tr th:only-of-type {\n",
              "        vertical-align: middle;\n",
              "    }\n",
              "\n",
              "    .dataframe tbody tr th {\n",
              "        vertical-align: top;\n",
              "    }\n",
              "\n",
              "    .dataframe thead th {\n",
              "        text-align: right;\n",
              "    }\n",
              "</style>\n",
              "<table border=\"1\" class=\"dataframe\">\n",
              "  <thead>\n",
              "    <tr style=\"text-align: right;\">\n",
              "      <th></th>\n",
              "      <th>Unit A</th>\n",
              "      <th>Unit B</th>\n",
              "    </tr>\n",
              "  </thead>\n",
              "  <tbody>\n",
              "    <tr>\n",
              "      <th>0</th>\n",
              "      <td>6.8090</td>\n",
              "      <td>6.7703</td>\n",
              "    </tr>\n",
              "    <tr>\n",
              "      <th>1</th>\n",
              "      <td>6.4376</td>\n",
              "      <td>7.5093</td>\n",
              "    </tr>\n",
              "    <tr>\n",
              "      <th>2</th>\n",
              "      <td>6.9157</td>\n",
              "      <td>6.7300</td>\n",
              "    </tr>\n",
              "    <tr>\n",
              "      <th>3</th>\n",
              "      <td>7.3012</td>\n",
              "      <td>6.7878</td>\n",
              "    </tr>\n",
              "    <tr>\n",
              "      <th>4</th>\n",
              "      <td>7.4488</td>\n",
              "      <td>7.1522</td>\n",
              "    </tr>\n",
              "  </tbody>\n",
              "</table>\n",
              "</div>\n",
              "      <button class=\"colab-df-convert\" onclick=\"convertToInteractive('df-5f2aabff-6ba4-4c60-865b-303a6ae7cc2c')\"\n",
              "              title=\"Convert this dataframe to an interactive table.\"\n",
              "              style=\"display:none;\">\n",
              "        \n",
              "  <svg xmlns=\"http://www.w3.org/2000/svg\" height=\"24px\"viewBox=\"0 0 24 24\"\n",
              "       width=\"24px\">\n",
              "    <path d=\"M0 0h24v24H0V0z\" fill=\"none\"/>\n",
              "    <path d=\"M18.56 5.44l.94 2.06.94-2.06 2.06-.94-2.06-.94-.94-2.06-.94 2.06-2.06.94zm-11 1L8.5 8.5l.94-2.06 2.06-.94-2.06-.94L8.5 2.5l-.94 2.06-2.06.94zm10 10l.94 2.06.94-2.06 2.06-.94-2.06-.94-.94-2.06-.94 2.06-2.06.94z\"/><path d=\"M17.41 7.96l-1.37-1.37c-.4-.4-.92-.59-1.43-.59-.52 0-1.04.2-1.43.59L10.3 9.45l-7.72 7.72c-.78.78-.78 2.05 0 2.83L4 21.41c.39.39.9.59 1.41.59.51 0 1.02-.2 1.41-.59l7.78-7.78 2.81-2.81c.8-.78.8-2.07 0-2.86zM5.41 20L4 18.59l7.72-7.72 1.47 1.35L5.41 20z\"/>\n",
              "  </svg>\n",
              "      </button>\n",
              "      \n",
              "  <style>\n",
              "    .colab-df-container {\n",
              "      display:flex;\n",
              "      flex-wrap:wrap;\n",
              "      gap: 12px;\n",
              "    }\n",
              "\n",
              "    .colab-df-convert {\n",
              "      background-color: #E8F0FE;\n",
              "      border: none;\n",
              "      border-radius: 50%;\n",
              "      cursor: pointer;\n",
              "      display: none;\n",
              "      fill: #1967D2;\n",
              "      height: 32px;\n",
              "      padding: 0 0 0 0;\n",
              "      width: 32px;\n",
              "    }\n",
              "\n",
              "    .colab-df-convert:hover {\n",
              "      background-color: #E2EBFA;\n",
              "      box-shadow: 0px 1px 2px rgba(60, 64, 67, 0.3), 0px 1px 3px 1px rgba(60, 64, 67, 0.15);\n",
              "      fill: #174EA6;\n",
              "    }\n",
              "\n",
              "    [theme=dark] .colab-df-convert {\n",
              "      background-color: #3B4455;\n",
              "      fill: #D2E3FC;\n",
              "    }\n",
              "\n",
              "    [theme=dark] .colab-df-convert:hover {\n",
              "      background-color: #434B5C;\n",
              "      box-shadow: 0px 1px 3px 1px rgba(0, 0, 0, 0.15);\n",
              "      filter: drop-shadow(0px 1px 2px rgba(0, 0, 0, 0.3));\n",
              "      fill: #FFFFFF;\n",
              "    }\n",
              "  </style>\n",
              "\n",
              "      <script>\n",
              "        const buttonEl =\n",
              "          document.querySelector('#df-5f2aabff-6ba4-4c60-865b-303a6ae7cc2c button.colab-df-convert');\n",
              "        buttonEl.style.display =\n",
              "          google.colab.kernel.accessAllowed ? 'block' : 'none';\n",
              "\n",
              "        async function convertToInteractive(key) {\n",
              "          const element = document.querySelector('#df-5f2aabff-6ba4-4c60-865b-303a6ae7cc2c');\n",
              "          const dataTable =\n",
              "            await google.colab.kernel.invokeFunction('convertToInteractive',\n",
              "                                                     [key], {});\n",
              "          if (!dataTable) return;\n",
              "\n",
              "          const docLinkHtml = 'Like what you see? Visit the ' +\n",
              "            '<a target=\"_blank\" href=https://colab.research.google.com/notebooks/data_table.ipynb>data table notebook</a>'\n",
              "            + ' to learn more about interactive tables.';\n",
              "          element.innerHTML = '';\n",
              "          dataTable['output_type'] = 'display_data';\n",
              "          await google.colab.output.renderOutput(dataTable, element);\n",
              "          const docLink = document.createElement('div');\n",
              "          docLink.innerHTML = docLinkHtml;\n",
              "          element.appendChild(docLink);\n",
              "        }\n",
              "      </script>\n",
              "    </div>\n",
              "  </div>\n",
              "  "
            ]
          },
          "metadata": {},
          "execution_count": 3
        }
      ],
      "source": [
        "# Load the dataset\n",
        "data=pd.read_csv(\"/Cutlets.csv\")\n",
        "data.head()"
      ]
    },
    {
      "cell_type": "code",
      "execution_count": null,
      "id": "357ac96d",
      "metadata": {
        "id": "357ac96d"
      },
      "outputs": [],
      "source": [
        "# Assume Null hyposthesis as Ho: μ1 = μ2 (There is no difference in diameters of cutlets between two units)\n",
        "# Thus Alternate hypothesis as Ha: μ1 ≠ μ2 (There is significant difference in diameters of cutlets between two units)\n",
        "#2 Sample 2 Tail test applicable"
      ]
    },
    {
      "cell_type": "code",
      "execution_count": null,
      "id": "d4eab57c",
      "metadata": {
        "colab": {
          "base_uri": "https://localhost:8080/"
        },
        "id": "d4eab57c",
        "outputId": "bc7a19cf-7c63-41b7-b846-8d4772ff51b3"
      },
      "outputs": [
        {
          "output_type": "execute_result",
          "data": {
            "text/plain": [
              "0     6.8090\n",
              "1     6.4376\n",
              "2     6.9157\n",
              "3     7.3012\n",
              "4     7.4488\n",
              "5     7.3871\n",
              "6     6.8755\n",
              "7     7.0621\n",
              "8     6.6840\n",
              "9     6.8236\n",
              "10    7.3930\n",
              "11    7.5169\n",
              "12    6.9246\n",
              "13    6.9256\n",
              "14    6.5797\n",
              "15    6.8394\n",
              "16    6.5970\n",
              "17    7.2705\n",
              "18    7.2828\n",
              "19    7.3495\n",
              "20    6.9438\n",
              "21    7.1560\n",
              "22    6.5341\n",
              "23    7.2854\n",
              "24    6.9952\n",
              "25    6.8568\n",
              "26    7.2163\n",
              "27    6.6801\n",
              "28    6.9431\n",
              "29    7.0852\n",
              "30    6.7794\n",
              "31    7.2783\n",
              "32    7.1561\n",
              "33    7.3943\n",
              "34    6.9405\n",
              "Name: Unit A, dtype: float64"
            ]
          },
          "metadata": {},
          "execution_count": 4
        }
      ],
      "source": [
        "unitA=pd.Series(data.iloc[:,0])\n",
        "unitA"
      ]
    },
    {
      "cell_type": "code",
      "execution_count": null,
      "id": "70edd4a9",
      "metadata": {
        "colab": {
          "base_uri": "https://localhost:8080/"
        },
        "id": "70edd4a9",
        "outputId": "29a52cff-1454-4528-d023-59571712dba3"
      },
      "outputs": [
        {
          "output_type": "execute_result",
          "data": {
            "text/plain": [
              "0     6.7703\n",
              "1     7.5093\n",
              "2     6.7300\n",
              "3     6.7878\n",
              "4     7.1522\n",
              "5     6.8110\n",
              "6     7.2212\n",
              "7     6.6606\n",
              "8     7.2402\n",
              "9     7.0503\n",
              "10    6.8810\n",
              "11    7.4059\n",
              "12    6.7652\n",
              "13    6.0380\n",
              "14    7.1581\n",
              "15    7.0240\n",
              "16    6.6672\n",
              "17    7.4314\n",
              "18    7.3070\n",
              "19    6.7478\n",
              "20    6.8889\n",
              "21    7.4220\n",
              "22    6.5217\n",
              "23    7.1688\n",
              "24    6.7594\n",
              "25    6.9399\n",
              "26    7.0133\n",
              "27    6.9182\n",
              "28    6.3346\n",
              "29    7.5459\n",
              "30    7.0992\n",
              "31    7.1180\n",
              "32    6.6965\n",
              "33    6.5780\n",
              "34    7.3875\n",
              "Name: Unit B, dtype: float64"
            ]
          },
          "metadata": {},
          "execution_count": 5
        }
      ],
      "source": [
        "unitB=pd.Series(data.iloc[:,1])\n",
        "unitB"
      ]
    },
    {
      "cell_type": "code",
      "execution_count": null,
      "id": "fa10d3cb",
      "metadata": {
        "colab": {
          "base_uri": "https://localhost:8080/"
        },
        "id": "fa10d3cb",
        "outputId": "3a7de8eb-8988-4027-9436-ed5b4deb32b9"
      },
      "outputs": [
        {
          "output_type": "execute_result",
          "data": {
            "text/plain": [
              "Ttest_indResult(statistic=0.7228688704678063, pvalue=0.4722394724599501)"
            ]
          },
          "metadata": {},
          "execution_count": 6
        }
      ],
      "source": [
        "# 2-sample 2-tail ttest:   stats.ttest_ind(array1,array2)     # ind -> independent samples\n",
        "p_value=stats.ttest_ind(unitA,unitB)\n",
        "p_value"
      ]
    },
    {
      "cell_type": "code",
      "execution_count": null,
      "id": "7da10bcc",
      "metadata": {
        "colab": {
          "base_uri": "https://localhost:8080/"
        },
        "id": "7da10bcc",
        "outputId": "fe488035-61f2-4d9f-f7bf-edc7b262de30"
      },
      "outputs": [
        {
          "output_type": "execute_result",
          "data": {
            "text/plain": [
              "0.4722394724599501"
            ]
          },
          "metadata": {},
          "execution_count": 7
        }
      ],
      "source": [
        "# 2-tail probability \n",
        "p_value[1]     "
      ]
    },
    {
      "cell_type": "code",
      "execution_count": null,
      "id": "39fb3662",
      "metadata": {
        "id": "39fb3662"
      },
      "outputs": [],
      "source": [
        "# compare p_value with α = 0.05 (At 5% significance level)"
      ]
    },
    {
      "cell_type": "code",
      "execution_count": null,
      "id": "ab165fde",
      "metadata": {
        "id": "ab165fde"
      },
      "outputs": [],
      "source": [
        "# Inference:\n",
        "# As (p_value=0.4722) > (α = 0.05); Accept Null Hypothesis\n",
        "# i.e. μ1 = μ2 \n",
        "# Thus, there is no difference in diameters of cutlets between two units"
      ]
    },
    {
      "cell_type": "markdown",
      "id": "044a4574",
      "metadata": {
        "id": "044a4574"
      },
      "source": [
        "###### Q2. A hospital wants to determine whether there is any difference in the average Turn Around Time (TAT) of reports of the laboratories on their preferred list. They collected a random sample and recorded TAT for reports of 4 laboratories. TAT is defined as sample collected to report dispatch. Analyze the data and determine whether there is any difference in average TAT among the different laboratories at 5% significance level."
      ]
    },
    {
      "cell_type": "code",
      "execution_count": null,
      "id": "df896d2b",
      "metadata": {
        "colab": {
          "base_uri": "https://localhost:8080/",
          "height": 206
        },
        "id": "df896d2b",
        "outputId": "9a1ceaab-845f-4ce8-b02d-0e8d00bb01a5"
      },
      "outputs": [
        {
          "output_type": "execute_result",
          "data": {
            "text/plain": [
              "   Laboratory 1  Laboratory 2  Laboratory 3  Laboratory 4\n",
              "0        185.35        165.53        176.70        166.13\n",
              "1        170.49        185.91        198.45        160.79\n",
              "2        192.77        194.92        201.23        185.18\n",
              "3        177.33        183.00        199.61        176.42\n",
              "4        193.41        169.57        204.63        152.60"
            ],
            "text/html": [
              "\n",
              "  <div id=\"df-f8cf0d41-591b-46f9-998d-de57f33b9791\">\n",
              "    <div class=\"colab-df-container\">\n",
              "      <div>\n",
              "<style scoped>\n",
              "    .dataframe tbody tr th:only-of-type {\n",
              "        vertical-align: middle;\n",
              "    }\n",
              "\n",
              "    .dataframe tbody tr th {\n",
              "        vertical-align: top;\n",
              "    }\n",
              "\n",
              "    .dataframe thead th {\n",
              "        text-align: right;\n",
              "    }\n",
              "</style>\n",
              "<table border=\"1\" class=\"dataframe\">\n",
              "  <thead>\n",
              "    <tr style=\"text-align: right;\">\n",
              "      <th></th>\n",
              "      <th>Laboratory 1</th>\n",
              "      <th>Laboratory 2</th>\n",
              "      <th>Laboratory 3</th>\n",
              "      <th>Laboratory 4</th>\n",
              "    </tr>\n",
              "  </thead>\n",
              "  <tbody>\n",
              "    <tr>\n",
              "      <th>0</th>\n",
              "      <td>185.35</td>\n",
              "      <td>165.53</td>\n",
              "      <td>176.70</td>\n",
              "      <td>166.13</td>\n",
              "    </tr>\n",
              "    <tr>\n",
              "      <th>1</th>\n",
              "      <td>170.49</td>\n",
              "      <td>185.91</td>\n",
              "      <td>198.45</td>\n",
              "      <td>160.79</td>\n",
              "    </tr>\n",
              "    <tr>\n",
              "      <th>2</th>\n",
              "      <td>192.77</td>\n",
              "      <td>194.92</td>\n",
              "      <td>201.23</td>\n",
              "      <td>185.18</td>\n",
              "    </tr>\n",
              "    <tr>\n",
              "      <th>3</th>\n",
              "      <td>177.33</td>\n",
              "      <td>183.00</td>\n",
              "      <td>199.61</td>\n",
              "      <td>176.42</td>\n",
              "    </tr>\n",
              "    <tr>\n",
              "      <th>4</th>\n",
              "      <td>193.41</td>\n",
              "      <td>169.57</td>\n",
              "      <td>204.63</td>\n",
              "      <td>152.60</td>\n",
              "    </tr>\n",
              "  </tbody>\n",
              "</table>\n",
              "</div>\n",
              "      <button class=\"colab-df-convert\" onclick=\"convertToInteractive('df-f8cf0d41-591b-46f9-998d-de57f33b9791')\"\n",
              "              title=\"Convert this dataframe to an interactive table.\"\n",
              "              style=\"display:none;\">\n",
              "        \n",
              "  <svg xmlns=\"http://www.w3.org/2000/svg\" height=\"24px\"viewBox=\"0 0 24 24\"\n",
              "       width=\"24px\">\n",
              "    <path d=\"M0 0h24v24H0V0z\" fill=\"none\"/>\n",
              "    <path d=\"M18.56 5.44l.94 2.06.94-2.06 2.06-.94-2.06-.94-.94-2.06-.94 2.06-2.06.94zm-11 1L8.5 8.5l.94-2.06 2.06-.94-2.06-.94L8.5 2.5l-.94 2.06-2.06.94zm10 10l.94 2.06.94-2.06 2.06-.94-2.06-.94-.94-2.06-.94 2.06-2.06.94z\"/><path d=\"M17.41 7.96l-1.37-1.37c-.4-.4-.92-.59-1.43-.59-.52 0-1.04.2-1.43.59L10.3 9.45l-7.72 7.72c-.78.78-.78 2.05 0 2.83L4 21.41c.39.39.9.59 1.41.59.51 0 1.02-.2 1.41-.59l7.78-7.78 2.81-2.81c.8-.78.8-2.07 0-2.86zM5.41 20L4 18.59l7.72-7.72 1.47 1.35L5.41 20z\"/>\n",
              "  </svg>\n",
              "      </button>\n",
              "      \n",
              "  <style>\n",
              "    .colab-df-container {\n",
              "      display:flex;\n",
              "      flex-wrap:wrap;\n",
              "      gap: 12px;\n",
              "    }\n",
              "\n",
              "    .colab-df-convert {\n",
              "      background-color: #E8F0FE;\n",
              "      border: none;\n",
              "      border-radius: 50%;\n",
              "      cursor: pointer;\n",
              "      display: none;\n",
              "      fill: #1967D2;\n",
              "      height: 32px;\n",
              "      padding: 0 0 0 0;\n",
              "      width: 32px;\n",
              "    }\n",
              "\n",
              "    .colab-df-convert:hover {\n",
              "      background-color: #E2EBFA;\n",
              "      box-shadow: 0px 1px 2px rgba(60, 64, 67, 0.3), 0px 1px 3px 1px rgba(60, 64, 67, 0.15);\n",
              "      fill: #174EA6;\n",
              "    }\n",
              "\n",
              "    [theme=dark] .colab-df-convert {\n",
              "      background-color: #3B4455;\n",
              "      fill: #D2E3FC;\n",
              "    }\n",
              "\n",
              "    [theme=dark] .colab-df-convert:hover {\n",
              "      background-color: #434B5C;\n",
              "      box-shadow: 0px 1px 3px 1px rgba(0, 0, 0, 0.15);\n",
              "      filter: drop-shadow(0px 1px 2px rgba(0, 0, 0, 0.3));\n",
              "      fill: #FFFFFF;\n",
              "    }\n",
              "  </style>\n",
              "\n",
              "      <script>\n",
              "        const buttonEl =\n",
              "          document.querySelector('#df-f8cf0d41-591b-46f9-998d-de57f33b9791 button.colab-df-convert');\n",
              "        buttonEl.style.display =\n",
              "          google.colab.kernel.accessAllowed ? 'block' : 'none';\n",
              "\n",
              "        async function convertToInteractive(key) {\n",
              "          const element = document.querySelector('#df-f8cf0d41-591b-46f9-998d-de57f33b9791');\n",
              "          const dataTable =\n",
              "            await google.colab.kernel.invokeFunction('convertToInteractive',\n",
              "                                                     [key], {});\n",
              "          if (!dataTable) return;\n",
              "\n",
              "          const docLinkHtml = 'Like what you see? Visit the ' +\n",
              "            '<a target=\"_blank\" href=https://colab.research.google.com/notebooks/data_table.ipynb>data table notebook</a>'\n",
              "            + ' to learn more about interactive tables.';\n",
              "          element.innerHTML = '';\n",
              "          dataTable['output_type'] = 'display_data';\n",
              "          await google.colab.output.renderOutput(dataTable, element);\n",
              "          const docLink = document.createElement('div');\n",
              "          docLink.innerHTML = docLinkHtml;\n",
              "          element.appendChild(docLink);\n",
              "        }\n",
              "      </script>\n",
              "    </div>\n",
              "  </div>\n",
              "  "
            ]
          },
          "metadata": {},
          "execution_count": 8
        }
      ],
      "source": [
        "# load the dataset\n",
        "data=pd.read_csv(r\"/LabTAT.csv\")\n",
        "data.head()"
      ]
    },
    {
      "cell_type": "code",
      "execution_count": null,
      "id": "a91a4c5a",
      "metadata": {
        "id": "a91a4c5a"
      },
      "outputs": [],
      "source": [
        "# Anova ftest statistics: Analysis of varaince between more than 2 samples or columns\n",
        "# Assume Null Hypothesis Ho as No Varaince: All samples TAT population means are same\n",
        "# Thus Alternate Hypothesis Ha as It has Variance: Atleast one sample TAT population mean is different "
      ]
    },
    {
      "cell_type": "code",
      "execution_count": null,
      "id": "2af644d2",
      "metadata": {
        "colab": {
          "base_uri": "https://localhost:8080/"
        },
        "id": "2af644d2",
        "outputId": "4021d767-ea23-4c33-c37b-21e89d185fa2"
      },
      "outputs": [
        {
          "output_type": "execute_result",
          "data": {
            "text/plain": [
              "F_onewayResult(statistic=118.70421654401437, pvalue=2.1156708949992414e-57)"
            ]
          },
          "metadata": {},
          "execution_count": 9
        }
      ],
      "source": [
        "# Anova ftest statistics: stats.f_oneway(column-1,column-2,column-3,column-4)\n",
        "p_value=stats.f_oneway(data.iloc[:,0],data.iloc[:,1],data.iloc[:,2],data.iloc[:,3])\n",
        "p_value"
      ]
    },
    {
      "cell_type": "code",
      "execution_count": null,
      "id": "f4cf1021",
      "metadata": {
        "colab": {
          "base_uri": "https://localhost:8080/"
        },
        "id": "f4cf1021",
        "outputId": "52ba372c-b5c6-4a27-b3f4-13472f3a814b"
      },
      "outputs": [
        {
          "output_type": "execute_result",
          "data": {
            "text/plain": [
              "2.1156708949992414e-57"
            ]
          },
          "metadata": {},
          "execution_count": 10
        }
      ],
      "source": [
        "# compare it with α = 0.05\n",
        "p_value[1]  "
      ]
    },
    {
      "cell_type": "code",
      "execution_count": null,
      "id": "c2f8faa7",
      "metadata": {
        "id": "c2f8faa7"
      },
      "outputs": [],
      "source": [
        "\\# Inference:\n",
        "# As (p-value=0) < (α = 0.05); Reject Null Hypothesis\n",
        "# i.e. Atleast one sample TAT population mean is different \n",
        "# Thus there is variance or difference in average Turn Around Time (TAT) of reports of the laboratories on their preferred list."
      ]
    },
    {
      "cell_type": "markdown",
      "source": [
        "##Q.3 "
      ],
      "metadata": {
        "id": "CilbdDWDO7rd"
      },
      "id": "CilbdDWDO7rd"
    },
    {
      "cell_type": "markdown",
      "id": "a85dbf50",
      "metadata": {
        "id": "a85dbf50"
      },
      "source": [
        "Q.3![Screenshot (2).png](data:image/png;base64,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)###### "
      ]
    },
    {
      "cell_type": "code",
      "execution_count": null,
      "id": "b3553eba",
      "metadata": {
        "id": "b3553eba"
      },
      "outputs": [],
      "source": [
        "# Assume Null Hypothesis as Ho: \n",
        "# Independence of categorical variables (male-female buyer rations are similar across regions (does not vary and are not related)\n",
        "\n",
        "# Thus Alternate Hypothesis as Ha: \n",
        "# Dependence of categorical variables (male-female buyer rations are NOT similar across regions (does vary and somewhat/significantly related)"
      ]
    },
    {
      "cell_type": "code",
      "execution_count": null,
      "id": "a1e9886b",
      "metadata": {
        "id": "a1e9886b",
        "outputId": "119b7abb-91e8-4fe7-d488-7f32bf36fce5",
        "colab": {
          "base_uri": "https://localhost:8080/",
          "height": 112
        }
      },
      "outputs": [
        {
          "output_type": "execute_result",
          "data": {
            "text/plain": [
              "  Observed Values  East  West  North  South\n",
              "0           Males    50   142    131     70\n",
              "1         Females   435  1523   1356    750"
            ],
            "text/html": [
              "\n",
              "  <div id=\"df-5c5c97f1-1cde-48b0-bc21-d2cd84f698a6\">\n",
              "    <div class=\"colab-df-container\">\n",
              "      <div>\n",
              "<style scoped>\n",
              "    .dataframe tbody tr th:only-of-type {\n",
              "        vertical-align: middle;\n",
              "    }\n",
              "\n",
              "    .dataframe tbody tr th {\n",
              "        vertical-align: top;\n",
              "    }\n",
              "\n",
              "    .dataframe thead th {\n",
              "        text-align: right;\n",
              "    }\n",
              "</style>\n",
              "<table border=\"1\" class=\"dataframe\">\n",
              "  <thead>\n",
              "    <tr style=\"text-align: right;\">\n",
              "      <th></th>\n",
              "      <th>Observed Values</th>\n",
              "      <th>East</th>\n",
              "      <th>West</th>\n",
              "      <th>North</th>\n",
              "      <th>South</th>\n",
              "    </tr>\n",
              "  </thead>\n",
              "  <tbody>\n",
              "    <tr>\n",
              "      <th>0</th>\n",
              "      <td>Males</td>\n",
              "      <td>50</td>\n",
              "      <td>142</td>\n",
              "      <td>131</td>\n",
              "      <td>70</td>\n",
              "    </tr>\n",
              "    <tr>\n",
              "      <th>1</th>\n",
              "      <td>Females</td>\n",
              "      <td>435</td>\n",
              "      <td>1523</td>\n",
              "      <td>1356</td>\n",
              "      <td>750</td>\n",
              "    </tr>\n",
              "  </tbody>\n",
              "</table>\n",
              "</div>\n",
              "      <button class=\"colab-df-convert\" onclick=\"convertToInteractive('df-5c5c97f1-1cde-48b0-bc21-d2cd84f698a6')\"\n",
              "              title=\"Convert this dataframe to an interactive table.\"\n",
              "              style=\"display:none;\">\n",
              "        \n",
              "  <svg xmlns=\"http://www.w3.org/2000/svg\" height=\"24px\"viewBox=\"0 0 24 24\"\n",
              "       width=\"24px\">\n",
              "    <path d=\"M0 0h24v24H0V0z\" fill=\"none\"/>\n",
              "    <path d=\"M18.56 5.44l.94 2.06.94-2.06 2.06-.94-2.06-.94-.94-2.06-.94 2.06-2.06.94zm-11 1L8.5 8.5l.94-2.06 2.06-.94-2.06-.94L8.5 2.5l-.94 2.06-2.06.94zm10 10l.94 2.06.94-2.06 2.06-.94-2.06-.94-.94-2.06-.94 2.06-2.06.94z\"/><path d=\"M17.41 7.96l-1.37-1.37c-.4-.4-.92-.59-1.43-.59-.52 0-1.04.2-1.43.59L10.3 9.45l-7.72 7.72c-.78.78-.78 2.05 0 2.83L4 21.41c.39.39.9.59 1.41.59.51 0 1.02-.2 1.41-.59l7.78-7.78 2.81-2.81c.8-.78.8-2.07 0-2.86zM5.41 20L4 18.59l7.72-7.72 1.47 1.35L5.41 20z\"/>\n",
              "  </svg>\n",
              "      </button>\n",
              "      \n",
              "  <style>\n",
              "    .colab-df-container {\n",
              "      display:flex;\n",
              "      flex-wrap:wrap;\n",
              "      gap: 12px;\n",
              "    }\n",
              "\n",
              "    .colab-df-convert {\n",
              "      background-color: #E8F0FE;\n",
              "      border: none;\n",
              "      border-radius: 50%;\n",
              "      cursor: pointer;\n",
              "      display: none;\n",
              "      fill: #1967D2;\n",
              "      height: 32px;\n",
              "      padding: 0 0 0 0;\n",
              "      width: 32px;\n",
              "    }\n",
              "\n",
              "    .colab-df-convert:hover {\n",
              "      background-color: #E2EBFA;\n",
              "      box-shadow: 0px 1px 2px rgba(60, 64, 67, 0.3), 0px 1px 3px 1px rgba(60, 64, 67, 0.15);\n",
              "      fill: #174EA6;\n",
              "    }\n",
              "\n",
              "    [theme=dark] .colab-df-convert {\n",
              "      background-color: #3B4455;\n",
              "      fill: #D2E3FC;\n",
              "    }\n",
              "\n",
              "    [theme=dark] .colab-df-convert:hover {\n",
              "      background-color: #434B5C;\n",
              "      box-shadow: 0px 1px 3px 1px rgba(0, 0, 0, 0.15);\n",
              "      filter: drop-shadow(0px 1px 2px rgba(0, 0, 0, 0.3));\n",
              "      fill: #FFFFFF;\n",
              "    }\n",
              "  </style>\n",
              "\n",
              "      <script>\n",
              "        const buttonEl =\n",
              "          document.querySelector('#df-5c5c97f1-1cde-48b0-bc21-d2cd84f698a6 button.colab-df-convert');\n",
              "        buttonEl.style.display =\n",
              "          google.colab.kernel.accessAllowed ? 'block' : 'none';\n",
              "\n",
              "        async function convertToInteractive(key) {\n",
              "          const element = document.querySelector('#df-5c5c97f1-1cde-48b0-bc21-d2cd84f698a6');\n",
              "          const dataTable =\n",
              "            await google.colab.kernel.invokeFunction('convertToInteractive',\n",
              "                                                     [key], {});\n",
              "          if (!dataTable) return;\n",
              "\n",
              "          const docLinkHtml = 'Like what you see? Visit the ' +\n",
              "            '<a target=\"_blank\" href=https://colab.research.google.com/notebooks/data_table.ipynb>data table notebook</a>'\n",
              "            + ' to learn more about interactive tables.';\n",
              "          element.innerHTML = '';\n",
              "          dataTable['output_type'] = 'display_data';\n",
              "          await google.colab.output.renderOutput(dataTable, element);\n",
              "          const docLink = document.createElement('div');\n",
              "          docLink.innerHTML = docLinkHtml;\n",
              "          element.appendChild(docLink);\n",
              "        }\n",
              "      </script>\n",
              "    </div>\n",
              "  </div>\n",
              "  "
            ]
          },
          "metadata": {},
          "execution_count": 11
        }
      ],
      "source": [
        "# load the dataset\n",
        "data=pd.read_csv(r\"/content/BuyerRatio.csv\")\n",
        "data"
      ]
    },
    {
      "cell_type": "code",
      "execution_count": null,
      "id": "aa62c230",
      "metadata": {
        "id": "aa62c230",
        "outputId": "b96debaa-4aa0-4624-efe9-bd5caf8e8864",
        "colab": {
          "base_uri": "https://localhost:8080/"
        }
      },
      "outputs": [
        {
          "output_type": "execute_result",
          "data": {
            "text/plain": [
              "array([[  50,  142,  131,   70],\n",
              "       [ 435, 1523, 1356,  750]])"
            ]
          },
          "metadata": {},
          "execution_count": 12
        }
      ],
      "source": [
        "# Make dimensional array\n",
        "obs=np.array([[50,142,131,70],[435,1523,1356,750]])\n",
        "obs"
      ]
    },
    {
      "cell_type": "code",
      "execution_count": null,
      "id": "e9537e45",
      "metadata": {
        "id": "e9537e45",
        "outputId": "b57ec1dd-0332-43ac-d411-050056caefe0",
        "colab": {
          "base_uri": "https://localhost:8080/"
        }
      },
      "outputs": [
        {
          "output_type": "execute_result",
          "data": {
            "text/plain": [
              "(1.595945538661058,\n",
              " 0.6603094907091882,\n",
              " 3,\n",
              " array([[  42.76531299,  146.81287862,  131.11756787,   72.30424052],\n",
              "        [ 442.23468701, 1518.18712138, 1355.88243213,  747.69575948]]))"
            ]
          },
          "metadata": {},
          "execution_count": 13
        }
      ],
      "source": [
        "# Chi2 contengency independence test\n",
        "chi2_contingency(obs) # o/p is (Chi2 stats value, p_value, df, expected obsvations)"
      ]
    },
    {
      "cell_type": "code",
      "execution_count": null,
      "id": "71ddac0b",
      "metadata": {
        "id": "71ddac0b"
      },
      "outputs": [],
      "source": [
        "# Compare p_value with α = 0.05"
      ]
    },
    {
      "cell_type": "code",
      "execution_count": null,
      "id": "6f7bc9a0",
      "metadata": {
        "id": "6f7bc9a0"
      },
      "outputs": [],
      "source": [
        "# Inference:\n",
        "# As (p-value = 0.6603) > (α = 0.05); Accept the Null Hypothesis\n",
        "# i.e. Independence of categorical variables \n",
        "# Thus, male-female buyer rations are similar across regions and are not related"
      ]
    },
    {
      "cell_type": "markdown",
      "id": "81ac0c7a",
      "metadata": {
        "id": "81ac0c7a"
      },
      "source": [
        "###### Q4. TeleCall uses 4 centers around the globe to process customer order forms. They audit a certain %  of the customer order forms. Any error in order form renders it defective and has to be reworked before processing.  The manager wants to check whether the defective %  varies by centre. Please analyze the data at 5% significance level and help the manager draw appropriate inferences."
      ]
    },
    {
      "cell_type": "code",
      "execution_count": null,
      "id": "dc5a3cc9",
      "metadata": {
        "id": "dc5a3cc9",
        "outputId": "462adf4f-83ff-4754-817e-0f5866d9c8f3",
        "colab": {
          "base_uri": "https://localhost:8080/",
          "height": 424
        }
      },
      "outputs": [
        {
          "output_type": "execute_result",
          "data": {
            "text/plain": [
              "    Phillippines   Indonesia       Malta       India\n",
              "0     Error Free  Error Free   Defective  Error Free\n",
              "1     Error Free  Error Free  Error Free   Defective\n",
              "2     Error Free   Defective   Defective  Error Free\n",
              "3     Error Free  Error Free  Error Free  Error Free\n",
              "4     Error Free  Error Free   Defective  Error Free\n",
              "..           ...         ...         ...         ...\n",
              "295   Error Free  Error Free  Error Free  Error Free\n",
              "296   Error Free  Error Free  Error Free  Error Free\n",
              "297   Error Free  Error Free   Defective  Error Free\n",
              "298   Error Free  Error Free  Error Free  Error Free\n",
              "299   Error Free   Defective   Defective  Error Free\n",
              "\n",
              "[300 rows x 4 columns]"
            ],
            "text/html": [
              "\n",
              "  <div id=\"df-23a6a9f6-8b6a-4018-bcb1-f9158bd5beee\">\n",
              "    <div class=\"colab-df-container\">\n",
              "      <div>\n",
              "<style scoped>\n",
              "    .dataframe tbody tr th:only-of-type {\n",
              "        vertical-align: middle;\n",
              "    }\n",
              "\n",
              "    .dataframe tbody tr th {\n",
              "        vertical-align: top;\n",
              "    }\n",
              "\n",
              "    .dataframe thead th {\n",
              "        text-align: right;\n",
              "    }\n",
              "</style>\n",
              "<table border=\"1\" class=\"dataframe\">\n",
              "  <thead>\n",
              "    <tr style=\"text-align: right;\">\n",
              "      <th></th>\n",
              "      <th>Phillippines</th>\n",
              "      <th>Indonesia</th>\n",
              "      <th>Malta</th>\n",
              "      <th>India</th>\n",
              "    </tr>\n",
              "  </thead>\n",
              "  <tbody>\n",
              "    <tr>\n",
              "      <th>0</th>\n",
              "      <td>Error Free</td>\n",
              "      <td>Error Free</td>\n",
              "      <td>Defective</td>\n",
              "      <td>Error Free</td>\n",
              "    </tr>\n",
              "    <tr>\n",
              "      <th>1</th>\n",
              "      <td>Error Free</td>\n",
              "      <td>Error Free</td>\n",
              "      <td>Error Free</td>\n",
              "      <td>Defective</td>\n",
              "    </tr>\n",
              "    <tr>\n",
              "      <th>2</th>\n",
              "      <td>Error Free</td>\n",
              "      <td>Defective</td>\n",
              "      <td>Defective</td>\n",
              "      <td>Error Free</td>\n",
              "    </tr>\n",
              "    <tr>\n",
              "      <th>3</th>\n",
              "      <td>Error Free</td>\n",
              "      <td>Error Free</td>\n",
              "      <td>Error Free</td>\n",
              "      <td>Error Free</td>\n",
              "    </tr>\n",
              "    <tr>\n",
              "      <th>4</th>\n",
              "      <td>Error Free</td>\n",
              "      <td>Error Free</td>\n",
              "      <td>Defective</td>\n",
              "      <td>Error Free</td>\n",
              "    </tr>\n",
              "    <tr>\n",
              "      <th>...</th>\n",
              "      <td>...</td>\n",
              "      <td>...</td>\n",
              "      <td>...</td>\n",
              "      <td>...</td>\n",
              "    </tr>\n",
              "    <tr>\n",
              "      <th>295</th>\n",
              "      <td>Error Free</td>\n",
              "      <td>Error Free</td>\n",
              "      <td>Error Free</td>\n",
              "      <td>Error Free</td>\n",
              "    </tr>\n",
              "    <tr>\n",
              "      <th>296</th>\n",
              "      <td>Error Free</td>\n",
              "      <td>Error Free</td>\n",
              "      <td>Error Free</td>\n",
              "      <td>Error Free</td>\n",
              "    </tr>\n",
              "    <tr>\n",
              "      <th>297</th>\n",
              "      <td>Error Free</td>\n",
              "      <td>Error Free</td>\n",
              "      <td>Defective</td>\n",
              "      <td>Error Free</td>\n",
              "    </tr>\n",
              "    <tr>\n",
              "      <th>298</th>\n",
              "      <td>Error Free</td>\n",
              "      <td>Error Free</td>\n",
              "      <td>Error Free</td>\n",
              "      <td>Error Free</td>\n",
              "    </tr>\n",
              "    <tr>\n",
              "      <th>299</th>\n",
              "      <td>Error Free</td>\n",
              "      <td>Defective</td>\n",
              "      <td>Defective</td>\n",
              "      <td>Error Free</td>\n",
              "    </tr>\n",
              "  </tbody>\n",
              "</table>\n",
              "<p>300 rows × 4 columns</p>\n",
              "</div>\n",
              "      <button class=\"colab-df-convert\" onclick=\"convertToInteractive('df-23a6a9f6-8b6a-4018-bcb1-f9158bd5beee')\"\n",
              "              title=\"Convert this dataframe to an interactive table.\"\n",
              "              style=\"display:none;\">\n",
              "        \n",
              "  <svg xmlns=\"http://www.w3.org/2000/svg\" height=\"24px\"viewBox=\"0 0 24 24\"\n",
              "       width=\"24px\">\n",
              "    <path d=\"M0 0h24v24H0V0z\" fill=\"none\"/>\n",
              "    <path d=\"M18.56 5.44l.94 2.06.94-2.06 2.06-.94-2.06-.94-.94-2.06-.94 2.06-2.06.94zm-11 1L8.5 8.5l.94-2.06 2.06-.94-2.06-.94L8.5 2.5l-.94 2.06-2.06.94zm10 10l.94 2.06.94-2.06 2.06-.94-2.06-.94-.94-2.06-.94 2.06-2.06.94z\"/><path d=\"M17.41 7.96l-1.37-1.37c-.4-.4-.92-.59-1.43-.59-.52 0-1.04.2-1.43.59L10.3 9.45l-7.72 7.72c-.78.78-.78 2.05 0 2.83L4 21.41c.39.39.9.59 1.41.59.51 0 1.02-.2 1.41-.59l7.78-7.78 2.81-2.81c.8-.78.8-2.07 0-2.86zM5.41 20L4 18.59l7.72-7.72 1.47 1.35L5.41 20z\"/>\n",
              "  </svg>\n",
              "      </button>\n",
              "      \n",
              "  <style>\n",
              "    .colab-df-container {\n",
              "      display:flex;\n",
              "      flex-wrap:wrap;\n",
              "      gap: 12px;\n",
              "    }\n",
              "\n",
              "    .colab-df-convert {\n",
              "      background-color: #E8F0FE;\n",
              "      border: none;\n",
              "      border-radius: 50%;\n",
              "      cursor: pointer;\n",
              "      display: none;\n",
              "      fill: #1967D2;\n",
              "      height: 32px;\n",
              "      padding: 0 0 0 0;\n",
              "      width: 32px;\n",
              "    }\n",
              "\n",
              "    .colab-df-convert:hover {\n",
              "      background-color: #E2EBFA;\n",
              "      box-shadow: 0px 1px 2px rgba(60, 64, 67, 0.3), 0px 1px 3px 1px rgba(60, 64, 67, 0.15);\n",
              "      fill: #174EA6;\n",
              "    }\n",
              "\n",
              "    [theme=dark] .colab-df-convert {\n",
              "      background-color: #3B4455;\n",
              "      fill: #D2E3FC;\n",
              "    }\n",
              "\n",
              "    [theme=dark] .colab-df-convert:hover {\n",
              "      background-color: #434B5C;\n",
              "      box-shadow: 0px 1px 3px 1px rgba(0, 0, 0, 0.15);\n",
              "      filter: drop-shadow(0px 1px 2px rgba(0, 0, 0, 0.3));\n",
              "      fill: #FFFFFF;\n",
              "    }\n",
              "  </style>\n",
              "\n",
              "      <script>\n",
              "        const buttonEl =\n",
              "          document.querySelector('#df-23a6a9f6-8b6a-4018-bcb1-f9158bd5beee button.colab-df-convert');\n",
              "        buttonEl.style.display =\n",
              "          google.colab.kernel.accessAllowed ? 'block' : 'none';\n",
              "\n",
              "        async function convertToInteractive(key) {\n",
              "          const element = document.querySelector('#df-23a6a9f6-8b6a-4018-bcb1-f9158bd5beee');\n",
              "          const dataTable =\n",
              "            await google.colab.kernel.invokeFunction('convertToInteractive',\n",
              "                                                     [key], {});\n",
              "          if (!dataTable) return;\n",
              "\n",
              "          const docLinkHtml = 'Like what you see? Visit the ' +\n",
              "            '<a target=\"_blank\" href=https://colab.research.google.com/notebooks/data_table.ipynb>data table notebook</a>'\n",
              "            + ' to learn more about interactive tables.';\n",
              "          element.innerHTML = '';\n",
              "          dataTable['output_type'] = 'display_data';\n",
              "          await google.colab.output.renderOutput(dataTable, element);\n",
              "          const docLink = document.createElement('div');\n",
              "          docLink.innerHTML = docLinkHtml;\n",
              "          element.appendChild(docLink);\n",
              "        }\n",
              "      </script>\n",
              "    </div>\n",
              "  </div>\n",
              "  "
            ]
          },
          "metadata": {},
          "execution_count": 16
        }
      ],
      "source": [
        "# load the dataset\n",
        "data=pd.read_csv(r\"/content/Costomer+OrderForm.csv\")\n",
        "data"
      ]
    },
    {
      "cell_type": "code",
      "execution_count": null,
      "id": "8e5361be",
      "metadata": {
        "id": "8e5361be",
        "outputId": "9d8de087-fd73-43f1-e36d-000a1ac3e4bd",
        "colab": {
          "base_uri": "https://localhost:8080/"
        }
      },
      "outputs": [
        {
          "output_type": "execute_result",
          "data": {
            "text/plain": [
              "Error Free    271\n",
              "Defective      29\n",
              "Name: Phillippines, dtype: int64"
            ]
          },
          "metadata": {},
          "execution_count": 17
        }
      ],
      "source": [
        "data.Phillippines.value_counts()"
      ]
    },
    {
      "cell_type": "code",
      "execution_count": null,
      "id": "7fb515d4",
      "metadata": {
        "id": "7fb515d4",
        "outputId": "40f0a46b-8361-4891-f2a0-b0fbabe57ab7",
        "colab": {
          "base_uri": "https://localhost:8080/"
        }
      },
      "outputs": [
        {
          "output_type": "execute_result",
          "data": {
            "text/plain": [
              "Error Free    267\n",
              "Defective      33\n",
              "Name: Indonesia, dtype: int64"
            ]
          },
          "metadata": {},
          "execution_count": 18
        }
      ],
      "source": [
        "data.Indonesia.value_counts()"
      ]
    },
    {
      "cell_type": "code",
      "execution_count": null,
      "id": "94dff616",
      "metadata": {
        "id": "94dff616",
        "outputId": "50b45baa-c239-49cd-cbb1-271b2193de06",
        "colab": {
          "base_uri": "https://localhost:8080/"
        }
      },
      "outputs": [
        {
          "output_type": "execute_result",
          "data": {
            "text/plain": [
              "Error Free    269\n",
              "Defective      31\n",
              "Name: Malta, dtype: int64"
            ]
          },
          "metadata": {},
          "execution_count": 19
        }
      ],
      "source": [
        "data.Malta.value_counts()"
      ]
    },
    {
      "cell_type": "code",
      "execution_count": null,
      "id": "3e0b55d2",
      "metadata": {
        "id": "3e0b55d2",
        "outputId": "ff22c98a-75f3-4c39-bcfb-49a655d3de2f",
        "colab": {
          "base_uri": "https://localhost:8080/"
        }
      },
      "outputs": [
        {
          "output_type": "execute_result",
          "data": {
            "text/plain": [
              "Error Free    280\n",
              "Defective      20\n",
              "Name: India, dtype: int64"
            ]
          },
          "metadata": {},
          "execution_count": 20
        }
      ],
      "source": [
        "data.India.value_counts()"
      ]
    },
    {
      "cell_type": "code",
      "execution_count": null,
      "id": "631d89a3",
      "metadata": {
        "id": "631d89a3",
        "outputId": "e77b84e9-da56-4ac9-a375-ecf5ee5a0b17",
        "colab": {
          "base_uri": "https://localhost:8080/"
        }
      },
      "outputs": [
        {
          "output_type": "execute_result",
          "data": {
            "text/plain": [
              "array([[271, 267, 269, 280],\n",
              "       [ 29,  33,  31,  20]])"
            ]
          },
          "metadata": {},
          "execution_count": 21
        }
      ],
      "source": [
        "# Make a contingency table\n",
        "obs=np.array([[271,267,269,280],[29,33,31,20]])\n",
        "obs"
      ]
    },
    {
      "cell_type": "code",
      "execution_count": null,
      "id": "254aaa40",
      "metadata": {
        "id": "254aaa40"
      },
      "outputs": [],
      "source": [
        "# Assume Null Hypothesis as Ho: \n",
        "# Independence of categorical variables (customer order forms defective %  does not varies by centre)\n",
        "\n",
        "# Thus, Alternative hypothesis as Ha\n",
        "# Dependence of categorical variables (customer order forms defective %  varies by centre)"
      ]
    },
    {
      "cell_type": "code",
      "execution_count": null,
      "id": "5c1b59e7",
      "metadata": {
        "id": "5c1b59e7",
        "outputId": "1e5ec995-7e27-468e-fc2c-f0d019db9713",
        "colab": {
          "base_uri": "https://localhost:8080/"
        }
      },
      "outputs": [
        {
          "output_type": "execute_result",
          "data": {
            "text/plain": [
              "(3.858960685820355,\n",
              " 0.2771020991233135,\n",
              " 3,\n",
              " array([[271.75, 271.75, 271.75, 271.75],\n",
              "        [ 28.25,  28.25,  28.25,  28.25]]))"
            ]
          },
          "metadata": {},
          "execution_count": 23
        }
      ],
      "source": [
        "# Chi2 contengency independence test\n",
        "chi2_contingency(obs) # o/p is (Chi2 stats value, p_value, df, expected obsvations)"
      ]
    },
    {
      "cell_type": "code",
      "execution_count": null,
      "id": "b11a8e5a",
      "metadata": {
        "id": "b11a8e5a"
      },
      "outputs": [],
      "source": [
        "# Compare p_value with α = 0.05"
      ]
    },
    {
      "cell_type": "code",
      "execution_count": null,
      "id": "bd49f2c3",
      "metadata": {
        "id": "bd49f2c3"
      },
      "outputs": [],
      "source": [
        "# Inference:\n",
        "# As (p_value = 0.2771) > (α = 0.05); Accept Null Hypthesis\n",
        "# i.e. Independence of categorical variables \n",
        "# Thus, customer order forms defective %  does not varies by centre"
      ]
    },
    {
      "cell_type": "code",
      "source": [],
      "metadata": {
        "id": "GI53P0iAQAP-"
      },
      "id": "GI53P0iAQAP-",
      "execution_count": null,
      "outputs": []
    }
  ],
  "metadata": {
    "kernelspec": {
      "display_name": "Python 3 (ipykernel)",
      "language": "python",
      "name": "python3"
    },
    "language_info": {
      "codemirror_mode": {
        "name": "ipython",
        "version": 3
      },
      "file_extension": ".py",
      "mimetype": "text/x-python",
      "name": "python",
      "nbconvert_exporter": "python",
      "pygments_lexer": "ipython3",
      "version": "3.9.12"
    },
    "colab": {
      "provenance": []
    }
  },
  "nbformat": 4,
  "nbformat_minor": 5
}